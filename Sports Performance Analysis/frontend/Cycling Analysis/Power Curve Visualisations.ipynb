{
 "cells": [
  {
   "cell_type": "code",
   "execution_count": 6,
   "metadata": {},
   "outputs": [
    {
     "ename": "TypeError",
     "evalue": "__init__() missing 1 required positional argument: 'data_source'",
     "output_type": "error",
     "traceback": [
      "\u001b[0;31m---------------------------------------------------------------------------\u001b[0m",
      "\u001b[0;31mTypeError\u001b[0m                                 Traceback (most recent call last)",
      "\u001b[1;32m/Users/brendan/Documents/GitHub/Deakin/redbackoperations/Projects/Sports Performance Analysis/frontend/Cycling Analysis/Power Curve Visualisations.ipynb Cell 1\u001b[0m line \u001b[0;36m5\n\u001b[1;32m      <a href='vscode-notebook-cell:/Users/brendan/Documents/GitHub/Deakin/redbackoperations/Projects/Sports%20Performance%20Analysis/frontend/Cycling%20Analysis/Power%20Curve%20Visualisations.ipynb#W1sZmlsZQ%3D%3D?line=1'>2</a>\u001b[0m \u001b[39mimport\u001b[39;00m \u001b[39mnumpy\u001b[39;00m \u001b[39mas\u001b[39;00m \u001b[39mnp\u001b[39;00m\n\u001b[1;32m      <a href='vscode-notebook-cell:/Users/brendan/Documents/GitHub/Deakin/redbackoperations/Projects/Sports%20Performance%20Analysis/frontend/Cycling%20Analysis/Power%20Curve%20Visualisations.ipynb#W1sZmlsZQ%3D%3D?line=3'>4</a>\u001b[0m \u001b[39m# Visualise Power curve to Sep 2022\u001b[39;00m\n\u001b[0;32m----> <a href='vscode-notebook-cell:/Users/brendan/Documents/GitHub/Deakin/redbackoperations/Projects/Sports%20Performance%20Analysis/frontend/Cycling%20Analysis/Power%20Curve%20Visualisations.ipynb#W1sZmlsZQ%3D%3D?line=4'>5</a>\u001b[0m pca \u001b[39m=\u001b[39m PowerCurveAnalyzer()\n\u001b[1;32m      <a href='vscode-notebook-cell:/Users/brendan/Documents/GitHub/Deakin/redbackoperations/Projects/Sports%20Performance%20Analysis/frontend/Cycling%20Analysis/Power%20Curve%20Visualisations.ipynb#W1sZmlsZQ%3D%3D?line=5'>6</a>\u001b[0m power_curve \u001b[39m=\u001b[39m pca\u001b[39m.\u001b[39mcreate_power_curve(\u001b[39m'\u001b[39m\u001b[39mRide\u001b[39m\u001b[39m'\u001b[39m, \u001b[39m'\u001b[39m\u001b[39m2022-09-02\u001b[39m\u001b[39m'\u001b[39m, \u001b[39m90\u001b[39m)\n\u001b[1;32m      <a href='vscode-notebook-cell:/Users/brendan/Documents/GitHub/Deakin/redbackoperations/Projects/Sports%20Performance%20Analysis/frontend/Cycling%20Analysis/Power%20Curve%20Visualisations.ipynb#W1sZmlsZQ%3D%3D?line=6'>7</a>\u001b[0m power_curve\n",
      "\u001b[0;31mTypeError\u001b[0m: __init__() missing 1 required positional argument: 'data_source'"
     ]
    }
   ],
   "source": [
    "from power_curve import PowerCurveAnalyzer\n",
    "import numpy as np\n",
    "\n",
    "# Visualise Power curve to Sep 2022\n",
    "pca = PowerCurveAnalyzer()\n",
    "power_curve = pca.create_power_curve('Ride', '2022-09-02', 90)\n",
    "power_curve"
   ]
  }
 ],
 "metadata": {
  "kernelspec": {
   "display_name": "py39tf",
   "language": "python",
   "name": "py39tf"
  },
  "language_info": {
   "codemirror_mode": {
    "name": "ipython",
    "version": 3
   },
   "file_extension": ".py",
   "mimetype": "text/x-python",
   "name": "python",
   "nbconvert_exporter": "python",
   "pygments_lexer": "ipython3",
   "version": "3.9.16"
  }
 },
 "nbformat": 4,
 "nbformat_minor": 2
}
